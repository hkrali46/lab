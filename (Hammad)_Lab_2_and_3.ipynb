{
  "nbformat": 4,
  "nbformat_minor": 0,
  "metadata": {
    "colab": {
      "provenance": [],
      "authorship_tag": "ABX9TyMFci0iHLGbJFvjx3MICG3x",
      "include_colab_link": true
    },
    "kernelspec": {
      "name": "python3",
      "display_name": "Python 3"
    },
    "language_info": {
      "name": "python"
    }
  },
  "cells": [
    {
      "cell_type": "markdown",
      "metadata": {
        "id": "view-in-github",
        "colab_type": "text"
      },
      "source": [
        "<a href=\"https://colab.research.google.com/github/hkrali46/lab/blob/main/(Hammad)_Lab_2_and_3.ipynb\" target=\"_parent\"><img src=\"https://colab.research.google.com/assets/colab-badge.svg\" alt=\"Open In Colab\"/></a>"
      ]
    },
    {
      "cell_type": "markdown",
      "source": [
        "# **Programming For Artificial Intelligence:**"
      ],
      "metadata": {
        "id": "2WWPhJ6I8AGC"
      }
    },
    {
      "cell_type": "markdown",
      "source": [
        "⦁\tPrint at least 5 types of data type"
      ],
      "metadata": {
        "id": "pz07aiYr8Q9Q"
      }
    },
    {
      "cell_type": "code",
      "source": [
        "print(type(5))                    # Integer\n",
        "print(type(10))                    # Integer\n",
        "print(type(15))                    # Integer\n",
        "print(type(20))                    # Integer\n",
        "print(type(25))                    # Integer\n",
        "\n",
        "\n",
        "print(type(3.14))                 # Float\n",
        "print(type(4.14))                 # Float\n",
        "print(type(6.14))                 # Float\n",
        "print(type(9.14))                 # Float\n",
        "print(type(13.14))                 # Float\n",
        "\n",
        "\n",
        "print(type(2 + 3j))               # complex\n",
        "print(type(12 + 3j))               # complex\n",
        "print(type(21 + 3j))               # complex\n",
        "print(type(31 + 3j))               # complex\n",
        "print(type(42 + 3j))               # complex"
      ],
      "metadata": {
        "colab": {
          "base_uri": "https://localhost:8080/"
        },
        "id": "_yhJE-rM8R9s",
        "outputId": "68c666df-111b-4364-9f34-4a1fbcdc2307"
      },
      "execution_count": null,
      "outputs": [
        {
          "output_type": "stream",
          "name": "stdout",
          "text": [
            "<class 'int'>\n",
            "<class 'int'>\n",
            "<class 'int'>\n",
            "<class 'int'>\n",
            "<class 'int'>\n",
            "<class 'float'>\n",
            "<class 'float'>\n",
            "<class 'float'>\n",
            "<class 'float'>\n",
            "<class 'float'>\n",
            "<class 'complex'>\n",
            "<class 'complex'>\n",
            "<class 'complex'>\n",
            "<class 'complex'>\n",
            "<class 'complex'>\n"
          ]
        }
      ]
    },
    {
      "cell_type": "markdown",
      "source": [
        "⦁\tWrite example of type conversion for each ( minimum 3)"
      ],
      "metadata": {
        "id": "lV8Yhvko8hQ-"
      }
    },
    {
      "cell_type": "code",
      "source": [
        "# Integer to float\n",
        "num_int = 5\n",
        "num_float = float(num_int)\n",
        "print(num_float)\n",
        "\n",
        "# Float to integer\n",
        "num_float = 3.14\n",
        "num_int = int(num_float)\n",
        "print(num_int)\n",
        "\n",
        "# complex to string\n",
        "com_num = 2 + 3j\n",
        "num_str = str(com_num)\n",
        "print(num_str)\n"
      ],
      "metadata": {
        "colab": {
          "base_uri": "https://localhost:8080/"
        },
        "id": "knTOu_5e8iAY",
        "outputId": "5b1e7ce9-b2d3-4571-a66f-92f934d31105"
      },
      "execution_count": null,
      "outputs": [
        {
          "output_type": "stream",
          "name": "stdout",
          "text": [
            "5.0\n",
            "3\n",
            "(2+3j)\n"
          ]
        }
      ]
    },
    {
      "cell_type": "markdown",
      "source": [
        "⦁\tAssign multiple strings to single variable with your name , registration number, program , semester etc"
      ],
      "metadata": {
        "id": "YcCIAB5J8k9y"
      }
    },
    {
      "cell_type": "code",
      "source": [
        "info = \"Name: Hammad, Reg. No: 12345, Program: Artificial Intelligence, Semester: Spring\"\n",
        "print(info)\n"
      ],
      "metadata": {
        "colab": {
          "base_uri": "https://localhost:8080/"
        },
        "id": "OX6jnDtY8nAr",
        "outputId": "6e30135f-b55e-4d47-fe7a-41412f02a64d"
      },
      "execution_count": null,
      "outputs": [
        {
          "output_type": "stream",
          "name": "stdout",
          "text": [
            "Name: Hammad, Reg. No: 12345, Program: Artificial Intelligence, Semester: Spring\n"
          ]
        }
      ]
    },
    {
      "cell_type": "markdown",
      "source": [
        "⦁\tWrite Your country name and access the last 3 characters"
      ],
      "metadata": {
        "id": "o7_AwVGi8xkh"
      }
    },
    {
      "cell_type": "code",
      "source": [
        "country = \"Pakistan\"\n",
        "last_three = country[-3:]\n",
        "print(last_three)\n"
      ],
      "metadata": {
        "colab": {
          "base_uri": "https://localhost:8080/"
        },
        "id": "jSOXgZb58z_D",
        "outputId": "3db294fd-b03f-4a54-a0ea-e63a760ec705"
      },
      "execution_count": null,
      "outputs": [
        {
          "output_type": "stream",
          "name": "stdout",
          "text": [
            "tan\n"
          ]
        }
      ]
    },
    {
      "cell_type": "markdown",
      "source": [
        "⦁\tWrite code and observe using len() function it count space or not."
      ],
      "metadata": {
        "id": "Q_8k_dkk83dn"
      }
    },
    {
      "cell_type": "code",
      "source": [
        "text = \"Hello World\"\n",
        "print(\"Length of text:\", len(text))      # Counts spaces\n"
      ],
      "metadata": {
        "colab": {
          "base_uri": "https://localhost:8080/"
        },
        "id": "EoTo6ueT85b9",
        "outputId": "f80e13e7-0af7-4bdb-9c55-832d64b96f20"
      },
      "execution_count": null,
      "outputs": [
        {
          "output_type": "stream",
          "name": "stdout",
          "text": [
            "Length of text: 11\n"
          ]
        }
      ]
    },
    {
      "cell_type": "markdown",
      "source": [
        "⦁\tWrite code to access the 2nd and 3rd character of your name using negative indexes."
      ],
      "metadata": {
        "id": "Z7sxOcU09ITJ"
      }
    },
    {
      "cell_type": "code",
      "source": [
        "name = \"Hammad\"\n",
        "second_char = name[-5]\n",
        "third_char = name[-4]\n",
        "print(\"2nd character:\", second_char)\n",
        "print(\"3rd character:\", third_char)\n"
      ],
      "metadata": {
        "colab": {
          "base_uri": "https://localhost:8080/"
        },
        "id": "Kgz3DIii9WpM",
        "outputId": "e62fec70-62e4-4844-9ec0-4f7d10b90750"
      },
      "execution_count": null,
      "outputs": [
        {
          "output_type": "stream",
          "name": "stdout",
          "text": [
            "2nd character: a\n",
            "3rd character: m\n"
          ]
        }
      ]
    },
    {
      "cell_type": "markdown",
      "source": [
        "⦁\tWrite python code in which you pass index number to format() function and arguments must be 4 and same code without indexes."
      ],
      "metadata": {
        "id": "ucRrDYSI9cxC"
      }
    },
    {
      "cell_type": "code",
      "source": [
        "# With indexes\n",
        "text = \"My name is {0} and I am {1} years old.\"\n",
        "formatted_text = text.format(\"Hassan\", 20)\n",
        "print(formatted_text)\n",
        "\n",
        "# Without indexes\n",
        "text = \"My name is {} and I am {} years old.\"\n",
        "formatted_text = text.format(\"Hammad\", 20)\n",
        "print(formatted_text)\n"
      ],
      "metadata": {
        "colab": {
          "base_uri": "https://localhost:8080/"
        },
        "id": "BuNwRZow9fQq",
        "outputId": "afb310a9-2da1-4d00-a85c-c09c25209f00"
      },
      "execution_count": null,
      "outputs": [
        {
          "output_type": "stream",
          "name": "stdout",
          "text": [
            "My name is Hassan and I am 20 years old.\n",
            "My name is Hammad and I am 20 years old.\n"
          ]
        }
      ]
    },
    {
      "cell_type": "markdown",
      "source": [
        "⦁\tTake input from user and  than display it like “John age is: age”"
      ],
      "metadata": {
        "id": "Tn2OU6bA9icM"
      }
    },
    {
      "cell_type": "code",
      "source": [
        "name = input(\"Enter your name: \")\n",
        "age = input(\"Enter your age: \")\n",
        "print(f\"{name} age is: {age}\")\n"
      ],
      "metadata": {
        "id": "kWw8Lk1J9j7C",
        "colab": {
          "base_uri": "https://localhost:8080/"
        },
        "outputId": "3df32f80-14c4-4558-f871-86ea86e8bb34"
      },
      "execution_count": null,
      "outputs": [
        {
          "output_type": "stream",
          "name": "stdout",
          "text": [
            "Enter your name: hammad\n",
            "Enter your age: 20\n",
            "hammad age is: 20\n"
          ]
        }
      ]
    }
  ]
}